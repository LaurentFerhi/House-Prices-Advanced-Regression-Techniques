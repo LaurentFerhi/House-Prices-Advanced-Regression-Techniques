{
 "cells": [
  {
   "cell_type": "markdown",
   "metadata": {
    "id": "pLxNMhYHEH1t"
   },
   "source": [
    "# Housing sale price prediction (Kaggle)\n",
    "https://www.kaggle.com/c/house-prices-advanced-regression-techniques"
   ]
  },
  {
   "cell_type": "code",
   "execution_count": 1,
   "metadata": {
    "id": "IU0QUzX4EH1u"
   },
   "outputs": [],
   "source": [
    "import pandas as pd\n",
    "import numpy as np\n",
    "\n",
    "import matplotlib.pyplot as plt\n",
    "%matplotlib inline\n",
    "import seaborn as sns\n",
    "sns.set()\n",
    "\n",
    "import pickle as pk\n",
    "from time import time\n",
    "\n",
    "from sklearn.preprocessing import LabelEncoder\n",
    "from sklearn.model_selection import train_test_split\n",
    "from sklearn.model_selection import ShuffleSplit\n",
    "from sklearn.feature_selection import SelectKBest, f_regression\n",
    "from sklearn.pipeline import Pipeline\n",
    "from sklearn.model_selection import GridSearchCV\n",
    "from sklearn.ensemble import RandomForestRegressor\n",
    "from sklearn.metrics import mean_squared_error\n",
    "from sklearn.metrics import r2_score"
   ]
  },
  {
   "cell_type": "code",
   "execution_count": 2,
   "metadata": {
    "id": "MTx6kdyfEH1x"
   },
   "outputs": [],
   "source": [
    "data = pd.read_csv('train.csv')\n",
    "practice = pd.read_csv('test.csv')\n",
    "sub = pd.read_csv('sample_submission.csv')"
   ]
  },
  {
   "cell_type": "code",
   "execution_count": 3,
   "metadata": {
    "id": "9C3-23NgEH1z"
   },
   "outputs": [],
   "source": [
    "label = data.pop('SalePrice')"
   ]
  },
  {
   "cell_type": "code",
   "execution_count": 4,
   "metadata": {
    "id": "NFcT7c-VEH11"
   },
   "outputs": [],
   "source": [
    "def pre_process(df_train, df_test):\n",
    "    # Convert all df to str\n",
    "    df_train = df_train.applymap(lambda x: str(x))\n",
    "    df_test = df_test.applymap(lambda x: str(x))\n",
    "    # replace NaN by 0\n",
    "    df_train.fillna('0', inplace=True) # if fill with int(0), label encoder fails\n",
    "    df_test.fillna('0', inplace=True)\n",
    "    # Drop Id\n",
    "    df_train.drop('Id', axis=1, inplace=True)\n",
    "    df_test.drop('Id', axis=1, inplace=True)\n",
    "    # Label encode each non numerical features\n",
    "    dict_encoder = {}\n",
    "    for col in list(df_train.select_dtypes(include='object')):\n",
    "        le = LabelEncoder()\n",
    "        le.fit(list(df_train[col])+list(df_test[col]))\n",
    "        df_train[col] = le.transform(df_train[col])\n",
    "        df_test[col] = le.transform(df_test[col])\n",
    "        dict_encoder[col] = le\n",
    "    # Re-convert all df to float\n",
    "    df_train = df_train.applymap(lambda x: float(x))\n",
    "    df_test = df_test.applymap(lambda x: float(x))\n",
    "    return df_train, df_test, dict_encoder"
   ]
  },
  {
   "cell_type": "code",
   "execution_count": 5,
   "metadata": {
    "id": "GWZPTYOTEH14"
   },
   "outputs": [],
   "source": [
    "data, practice, dict_encoder = pre_process(data, practice)"
   ]
  },
  {
   "cell_type": "code",
   "execution_count": 6,
   "metadata": {
    "colab": {
     "base_uri": "https://localhost:8080/",
     "height": 51
    },
    "id": "PII3Nk2VEH16",
    "outputId": "86b1c30c-6cf9-402c-92d4-45ae2dba1782"
   },
   "outputs": [
    {
     "name": "stdout",
     "output_type": "stream",
     "text": [
      "MSZoning classes: ['C (all)', 'FV', 'RH', 'RL', 'RM', 'nan']\n",
      "Fence classes: ['GdPrv', 'GdWo', 'MnPrv', 'MnWw', 'nan']\n"
     ]
    }
   ],
   "source": [
    "enc = dict_encoder['MSZoning']\n",
    "print('MSZoning'+' classes:',list(enc.classes_))\n",
    "\n",
    "enc = dict_encoder['Fence']\n",
    "print('Fence'+' classes:',list(enc.classes_))"
   ]
  },
  {
   "cell_type": "code",
   "execution_count": 7,
   "metadata": {
    "colab": {
     "base_uri": "https://localhost:8080/",
     "height": 224
    },
    "id": "P9ChSwyUEH1-",
    "outputId": "255ca502-7d33-4fb5-a11e-3ac760f82331"
   },
   "outputs": [
    {
     "data": {
      "text/html": [
       "<div>\n",
       "<style scoped>\n",
       "    .dataframe tbody tr th:only-of-type {\n",
       "        vertical-align: middle;\n",
       "    }\n",
       "\n",
       "    .dataframe tbody tr th {\n",
       "        vertical-align: top;\n",
       "    }\n",
       "\n",
       "    .dataframe thead th {\n",
       "        text-align: right;\n",
       "    }\n",
       "</style>\n",
       "<table border=\"1\" class=\"dataframe\">\n",
       "  <thead>\n",
       "    <tr style=\"text-align: right;\">\n",
       "      <th></th>\n",
       "      <th>MSSubClass</th>\n",
       "      <th>MSZoning</th>\n",
       "      <th>LotFrontage</th>\n",
       "      <th>LotArea</th>\n",
       "      <th>Street</th>\n",
       "      <th>Alley</th>\n",
       "      <th>LotShape</th>\n",
       "      <th>LandContour</th>\n",
       "      <th>Utilities</th>\n",
       "      <th>LotConfig</th>\n",
       "      <th>LandSlope</th>\n",
       "      <th>Neighborhood</th>\n",
       "      <th>Condition1</th>\n",
       "      <th>Condition2</th>\n",
       "      <th>BldgType</th>\n",
       "      <th>HouseStyle</th>\n",
       "      <th>OverallQual</th>\n",
       "      <th>OverallCond</th>\n",
       "      <th>YearBuilt</th>\n",
       "      <th>YearRemodAdd</th>\n",
       "      <th>RoofStyle</th>\n",
       "      <th>RoofMatl</th>\n",
       "      <th>Exterior1st</th>\n",
       "      <th>Exterior2nd</th>\n",
       "      <th>MasVnrType</th>\n",
       "      <th>MasVnrArea</th>\n",
       "      <th>ExterQual</th>\n",
       "      <th>ExterCond</th>\n",
       "      <th>Foundation</th>\n",
       "      <th>BsmtQual</th>\n",
       "      <th>BsmtCond</th>\n",
       "      <th>BsmtExposure</th>\n",
       "      <th>BsmtFinType1</th>\n",
       "      <th>BsmtFinSF1</th>\n",
       "      <th>BsmtFinType2</th>\n",
       "      <th>BsmtFinSF2</th>\n",
       "      <th>BsmtUnfSF</th>\n",
       "      <th>TotalBsmtSF</th>\n",
       "      <th>Heating</th>\n",
       "      <th>HeatingQC</th>\n",
       "      <th>CentralAir</th>\n",
       "      <th>Electrical</th>\n",
       "      <th>1stFlrSF</th>\n",
       "      <th>2ndFlrSF</th>\n",
       "      <th>LowQualFinSF</th>\n",
       "      <th>GrLivArea</th>\n",
       "      <th>BsmtFullBath</th>\n",
       "      <th>BsmtHalfBath</th>\n",
       "      <th>FullBath</th>\n",
       "      <th>HalfBath</th>\n",
       "      <th>BedroomAbvGr</th>\n",
       "      <th>KitchenAbvGr</th>\n",
       "      <th>KitchenQual</th>\n",
       "      <th>TotRmsAbvGrd</th>\n",
       "      <th>Functional</th>\n",
       "      <th>Fireplaces</th>\n",
       "      <th>FireplaceQu</th>\n",
       "      <th>GarageType</th>\n",
       "      <th>GarageYrBlt</th>\n",
       "      <th>GarageFinish</th>\n",
       "      <th>GarageCars</th>\n",
       "      <th>GarageArea</th>\n",
       "      <th>GarageQual</th>\n",
       "      <th>GarageCond</th>\n",
       "      <th>PavedDrive</th>\n",
       "      <th>WoodDeckSF</th>\n",
       "      <th>OpenPorchSF</th>\n",
       "      <th>EnclosedPorch</th>\n",
       "      <th>3SsnPorch</th>\n",
       "      <th>ScreenPorch</th>\n",
       "      <th>PoolArea</th>\n",
       "      <th>PoolQC</th>\n",
       "      <th>Fence</th>\n",
       "      <th>MiscFeature</th>\n",
       "      <th>MiscVal</th>\n",
       "      <th>MoSold</th>\n",
       "      <th>YrSold</th>\n",
       "      <th>SaleType</th>\n",
       "      <th>SaleCondition</th>\n",
       "    </tr>\n",
       "  </thead>\n",
       "  <tbody>\n",
       "    <tr>\n",
       "      <th>0</th>\n",
       "      <td>10.0</td>\n",
       "      <td>3.0</td>\n",
       "      <td>93.0</td>\n",
       "      <td>1586.0</td>\n",
       "      <td>1.0</td>\n",
       "      <td>2.0</td>\n",
       "      <td>3.0</td>\n",
       "      <td>3.0</td>\n",
       "      <td>0.0</td>\n",
       "      <td>4.0</td>\n",
       "      <td>0.0</td>\n",
       "      <td>5.0</td>\n",
       "      <td>2.0</td>\n",
       "      <td>2.0</td>\n",
       "      <td>0.0</td>\n",
       "      <td>5.0</td>\n",
       "      <td>7.0</td>\n",
       "      <td>4.0</td>\n",
       "      <td>110.0</td>\n",
       "      <td>53.0</td>\n",
       "      <td>1.0</td>\n",
       "      <td>1.0</td>\n",
       "      <td>12.0</td>\n",
       "      <td>13.0</td>\n",
       "      <td>1.0</td>\n",
       "      <td>99.0</td>\n",
       "      <td>2.0</td>\n",
       "      <td>4.0</td>\n",
       "      <td>2.0</td>\n",
       "      <td>2.0</td>\n",
       "      <td>3.0</td>\n",
       "      <td>3.0</td>\n",
       "      <td>2.0</td>\n",
       "      <td>1016.0</td>\n",
       "      <td>5.0</td>\n",
       "      <td>0.0</td>\n",
       "      <td>341.0</td>\n",
       "      <td>1270.0</td>\n",
       "      <td>1.0</td>\n",
       "      <td>0.0</td>\n",
       "      <td>1.0</td>\n",
       "      <td>4.0</td>\n",
       "      <td>951.0</td>\n",
       "      <td>536.0</td>\n",
       "      <td>0.0</td>\n",
       "      <td>599.0</td>\n",
       "      <td>2.0</td>\n",
       "      <td>0.0</td>\n",
       "      <td>2.0</td>\n",
       "      <td>1.0</td>\n",
       "      <td>3.0</td>\n",
       "      <td>1.0</td>\n",
       "      <td>2.0</td>\n",
       "      <td>12.0</td>\n",
       "      <td>6.0</td>\n",
       "      <td>0.0</td>\n",
       "      <td>5.0</td>\n",
       "      <td>1.0</td>\n",
       "      <td>94.0</td>\n",
       "      <td>1.0</td>\n",
       "      <td>4.0</td>\n",
       "      <td>483.0</td>\n",
       "      <td>4.0</td>\n",
       "      <td>4.0</td>\n",
       "      <td>2.0</td>\n",
       "      <td>0.0</td>\n",
       "      <td>213.0</td>\n",
       "      <td>0.0</td>\n",
       "      <td>0.0</td>\n",
       "      <td>0.0</td>\n",
       "      <td>0.0</td>\n",
       "      <td>3.0</td>\n",
       "      <td>4.0</td>\n",
       "      <td>4.0</td>\n",
       "      <td>0.0</td>\n",
       "      <td>4.0</td>\n",
       "      <td>2.0</td>\n",
       "      <td>8.0</td>\n",
       "      <td>4.0</td>\n",
       "    </tr>\n",
       "    <tr>\n",
       "      <th>1</th>\n",
       "      <td>5.0</td>\n",
       "      <td>3.0</td>\n",
       "      <td>108.0</td>\n",
       "      <td>1862.0</td>\n",
       "      <td>1.0</td>\n",
       "      <td>2.0</td>\n",
       "      <td>3.0</td>\n",
       "      <td>3.0</td>\n",
       "      <td>0.0</td>\n",
       "      <td>2.0</td>\n",
       "      <td>0.0</td>\n",
       "      <td>24.0</td>\n",
       "      <td>1.0</td>\n",
       "      <td>2.0</td>\n",
       "      <td>0.0</td>\n",
       "      <td>2.0</td>\n",
       "      <td>6.0</td>\n",
       "      <td>7.0</td>\n",
       "      <td>83.0</td>\n",
       "      <td>26.0</td>\n",
       "      <td>1.0</td>\n",
       "      <td>1.0</td>\n",
       "      <td>8.0</td>\n",
       "      <td>8.0</td>\n",
       "      <td>2.0</td>\n",
       "      <td>0.0</td>\n",
       "      <td>3.0</td>\n",
       "      <td>4.0</td>\n",
       "      <td>1.0</td>\n",
       "      <td>2.0</td>\n",
       "      <td>3.0</td>\n",
       "      <td>1.0</td>\n",
       "      <td>0.0</td>\n",
       "      <td>1288.0</td>\n",
       "      <td>5.0</td>\n",
       "      <td>0.0</td>\n",
       "      <td>662.0</td>\n",
       "      <td>337.0</td>\n",
       "      <td>1.0</td>\n",
       "      <td>0.0</td>\n",
       "      <td>1.0</td>\n",
       "      <td>4.0</td>\n",
       "      <td>234.0</td>\n",
       "      <td>0.0</td>\n",
       "      <td>0.0</td>\n",
       "      <td>217.0</td>\n",
       "      <td>0.0</td>\n",
       "      <td>2.0</td>\n",
       "      <td>2.0</td>\n",
       "      <td>0.0</td>\n",
       "      <td>3.0</td>\n",
       "      <td>1.0</td>\n",
       "      <td>3.0</td>\n",
       "      <td>10.0</td>\n",
       "      <td>6.0</td>\n",
       "      <td>1.0</td>\n",
       "      <td>4.0</td>\n",
       "      <td>1.0</td>\n",
       "      <td>67.0</td>\n",
       "      <td>1.0</td>\n",
       "      <td>4.0</td>\n",
       "      <td>340.0</td>\n",
       "      <td>4.0</td>\n",
       "      <td>4.0</td>\n",
       "      <td>2.0</td>\n",
       "      <td>193.0</td>\n",
       "      <td>0.0</td>\n",
       "      <td>0.0</td>\n",
       "      <td>0.0</td>\n",
       "      <td>0.0</td>\n",
       "      <td>0.0</td>\n",
       "      <td>3.0</td>\n",
       "      <td>4.0</td>\n",
       "      <td>4.0</td>\n",
       "      <td>0.0</td>\n",
       "      <td>7.0</td>\n",
       "      <td>1.0</td>\n",
       "      <td>8.0</td>\n",
       "      <td>4.0</td>\n",
       "    </tr>\n",
       "    <tr>\n",
       "      <th>2</th>\n",
       "      <td>10.0</td>\n",
       "      <td>3.0</td>\n",
       "      <td>96.0</td>\n",
       "      <td>282.0</td>\n",
       "      <td>1.0</td>\n",
       "      <td>2.0</td>\n",
       "      <td>0.0</td>\n",
       "      <td>3.0</td>\n",
       "      <td>0.0</td>\n",
       "      <td>4.0</td>\n",
       "      <td>0.0</td>\n",
       "      <td>5.0</td>\n",
       "      <td>2.0</td>\n",
       "      <td>2.0</td>\n",
       "      <td>0.0</td>\n",
       "      <td>5.0</td>\n",
       "      <td>7.0</td>\n",
       "      <td>4.0</td>\n",
       "      <td>108.0</td>\n",
       "      <td>52.0</td>\n",
       "      <td>1.0</td>\n",
       "      <td>1.0</td>\n",
       "      <td>12.0</td>\n",
       "      <td>13.0</td>\n",
       "      <td>1.0</td>\n",
       "      <td>70.0</td>\n",
       "      <td>2.0</td>\n",
       "      <td>4.0</td>\n",
       "      <td>2.0</td>\n",
       "      <td>2.0</td>\n",
       "      <td>3.0</td>\n",
       "      <td>2.0</td>\n",
       "      <td>2.0</td>\n",
       "      <td>730.0</td>\n",
       "      <td>5.0</td>\n",
       "      <td>0.0</td>\n",
       "      <td>898.0</td>\n",
       "      <td>1345.0</td>\n",
       "      <td>1.0</td>\n",
       "      <td>0.0</td>\n",
       "      <td>1.0</td>\n",
       "      <td>4.0</td>\n",
       "      <td>1008.0</td>\n",
       "      <td>545.0</td>\n",
       "      <td>0.0</td>\n",
       "      <td>654.0</td>\n",
       "      <td>2.0</td>\n",
       "      <td>0.0</td>\n",
       "      <td>2.0</td>\n",
       "      <td>1.0</td>\n",
       "      <td>3.0</td>\n",
       "      <td>1.0</td>\n",
       "      <td>2.0</td>\n",
       "      <td>10.0</td>\n",
       "      <td>6.0</td>\n",
       "      <td>1.0</td>\n",
       "      <td>4.0</td>\n",
       "      <td>1.0</td>\n",
       "      <td>92.0</td>\n",
       "      <td>1.0</td>\n",
       "      <td>4.0</td>\n",
       "      <td>568.0</td>\n",
       "      <td>4.0</td>\n",
       "      <td>4.0</td>\n",
       "      <td>2.0</td>\n",
       "      <td>0.0</td>\n",
       "      <td>187.0</td>\n",
       "      <td>0.0</td>\n",
       "      <td>0.0</td>\n",
       "      <td>0.0</td>\n",
       "      <td>0.0</td>\n",
       "      <td>3.0</td>\n",
       "      <td>4.0</td>\n",
       "      <td>4.0</td>\n",
       "      <td>0.0</td>\n",
       "      <td>11.0</td>\n",
       "      <td>2.0</td>\n",
       "      <td>8.0</td>\n",
       "      <td>4.0</td>\n",
       "    </tr>\n",
       "    <tr>\n",
       "      <th>3</th>\n",
       "      <td>11.0</td>\n",
       "      <td>3.0</td>\n",
       "      <td>88.0</td>\n",
       "      <td>1850.0</td>\n",
       "      <td>1.0</td>\n",
       "      <td>2.0</td>\n",
       "      <td>0.0</td>\n",
       "      <td>3.0</td>\n",
       "      <td>0.0</td>\n",
       "      <td>0.0</td>\n",
       "      <td>0.0</td>\n",
       "      <td>6.0</td>\n",
       "      <td>2.0</td>\n",
       "      <td>2.0</td>\n",
       "      <td>0.0</td>\n",
       "      <td>5.0</td>\n",
       "      <td>7.0</td>\n",
       "      <td>4.0</td>\n",
       "      <td>25.0</td>\n",
       "      <td>20.0</td>\n",
       "      <td>1.0</td>\n",
       "      <td>1.0</td>\n",
       "      <td>13.0</td>\n",
       "      <td>15.0</td>\n",
       "      <td>2.0</td>\n",
       "      <td>0.0</td>\n",
       "      <td>3.0</td>\n",
       "      <td>4.0</td>\n",
       "      <td>0.0</td>\n",
       "      <td>3.0</td>\n",
       "      <td>1.0</td>\n",
       "      <td>3.0</td>\n",
       "      <td>0.0</td>\n",
       "      <td>392.0</td>\n",
       "      <td>5.0</td>\n",
       "      <td>0.0</td>\n",
       "      <td>1046.0</td>\n",
       "      <td>1148.0</td>\n",
       "      <td>1.0</td>\n",
       "      <td>2.0</td>\n",
       "      <td>1.0</td>\n",
       "      <td>4.0</td>\n",
       "      <td>1046.0</td>\n",
       "      <td>463.0</td>\n",
       "      <td>0.0</td>\n",
       "      <td>604.0</td>\n",
       "      <td>2.0</td>\n",
       "      <td>0.0</td>\n",
       "      <td>1.0</td>\n",
       "      <td>0.0</td>\n",
       "      <td>3.0</td>\n",
       "      <td>1.0</td>\n",
       "      <td>2.0</td>\n",
       "      <td>11.0</td>\n",
       "      <td>6.0</td>\n",
       "      <td>1.0</td>\n",
       "      <td>2.0</td>\n",
       "      <td>5.0</td>\n",
       "      <td>89.0</td>\n",
       "      <td>2.0</td>\n",
       "      <td>6.0</td>\n",
       "      <td>618.0</td>\n",
       "      <td>4.0</td>\n",
       "      <td>4.0</td>\n",
       "      <td>2.0</td>\n",
       "      <td>0.0</td>\n",
       "      <td>172.0</td>\n",
       "      <td>116.0</td>\n",
       "      <td>0.0</td>\n",
       "      <td>0.0</td>\n",
       "      <td>0.0</td>\n",
       "      <td>3.0</td>\n",
       "      <td>4.0</td>\n",
       "      <td>4.0</td>\n",
       "      <td>0.0</td>\n",
       "      <td>4.0</td>\n",
       "      <td>0.0</td>\n",
       "      <td>8.0</td>\n",
       "      <td>0.0</td>\n",
       "    </tr>\n",
       "    <tr>\n",
       "      <th>4</th>\n",
       "      <td>10.0</td>\n",
       "      <td>3.0</td>\n",
       "      <td>112.0</td>\n",
       "      <td>688.0</td>\n",
       "      <td>1.0</td>\n",
       "      <td>2.0</td>\n",
       "      <td>0.0</td>\n",
       "      <td>3.0</td>\n",
       "      <td>0.0</td>\n",
       "      <td>2.0</td>\n",
       "      <td>0.0</td>\n",
       "      <td>15.0</td>\n",
       "      <td>2.0</td>\n",
       "      <td>2.0</td>\n",
       "      <td>0.0</td>\n",
       "      <td>5.0</td>\n",
       "      <td>8.0</td>\n",
       "      <td>4.0</td>\n",
       "      <td>107.0</td>\n",
       "      <td>50.0</td>\n",
       "      <td>1.0</td>\n",
       "      <td>1.0</td>\n",
       "      <td>12.0</td>\n",
       "      <td>13.0</td>\n",
       "      <td>1.0</td>\n",
       "      <td>228.0</td>\n",
       "      <td>2.0</td>\n",
       "      <td>4.0</td>\n",
       "      <td>2.0</td>\n",
       "      <td>2.0</td>\n",
       "      <td>3.0</td>\n",
       "      <td>0.0</td>\n",
       "      <td>2.0</td>\n",
       "      <td>952.0</td>\n",
       "      <td>5.0</td>\n",
       "      <td>0.0</td>\n",
       "      <td>981.0</td>\n",
       "      <td>195.0</td>\n",
       "      <td>1.0</td>\n",
       "      <td>0.0</td>\n",
       "      <td>1.0</td>\n",
       "      <td>4.0</td>\n",
       "      <td>133.0</td>\n",
       "      <td>25.0</td>\n",
       "      <td>0.0</td>\n",
       "      <td>896.0</td>\n",
       "      <td>2.0</td>\n",
       "      <td>0.0</td>\n",
       "      <td>2.0</td>\n",
       "      <td>1.0</td>\n",
       "      <td>4.0</td>\n",
       "      <td>1.0</td>\n",
       "      <td>2.0</td>\n",
       "      <td>13.0</td>\n",
       "      <td>6.0</td>\n",
       "      <td>1.0</td>\n",
       "      <td>4.0</td>\n",
       "      <td>1.0</td>\n",
       "      <td>91.0</td>\n",
       "      <td>1.0</td>\n",
       "      <td>6.0</td>\n",
       "      <td>804.0</td>\n",
       "      <td>4.0</td>\n",
       "      <td>4.0</td>\n",
       "      <td>2.0</td>\n",
       "      <td>90.0</td>\n",
       "      <td>236.0</td>\n",
       "      <td>0.0</td>\n",
       "      <td>0.0</td>\n",
       "      <td>0.0</td>\n",
       "      <td>0.0</td>\n",
       "      <td>3.0</td>\n",
       "      <td>4.0</td>\n",
       "      <td>4.0</td>\n",
       "      <td>0.0</td>\n",
       "      <td>3.0</td>\n",
       "      <td>2.0</td>\n",
       "      <td>8.0</td>\n",
       "      <td>4.0</td>\n",
       "    </tr>\n",
       "  </tbody>\n",
       "</table>\n",
       "</div>"
      ],
      "text/plain": [
       "   MSSubClass  MSZoning  LotFrontage  ...  YrSold  SaleType  SaleCondition\n",
       "0        10.0       3.0         93.0  ...     2.0       8.0            4.0\n",
       "1         5.0       3.0        108.0  ...     1.0       8.0            4.0\n",
       "2        10.0       3.0         96.0  ...     2.0       8.0            4.0\n",
       "3        11.0       3.0         88.0  ...     0.0       8.0            0.0\n",
       "4        10.0       3.0        112.0  ...     2.0       8.0            4.0\n",
       "\n",
       "[5 rows x 79 columns]"
      ]
     },
     "execution_count": 7,
     "metadata": {
      "tags": []
     },
     "output_type": "execute_result"
    }
   ],
   "source": [
    "data.head()"
   ]
  },
  {
   "cell_type": "code",
   "execution_count": 8,
   "metadata": {
    "colab": {
     "base_uri": "https://localhost:8080/",
     "height": 51
    },
    "id": "BEKZCzKMEH2B",
    "outputId": "190b041e-af9f-40a6-ca84-ed90adf75077"
   },
   "outputs": [
    {
     "name": "stdout",
     "output_type": "stream",
     "text": [
      "X shape: (1460, 79)\n",
      "y shape: (1460,)\n"
     ]
    }
   ],
   "source": [
    "X = np.array(data)\n",
    "y = np.array(label)\n",
    "print('X shape:',X.shape)\n",
    "print('y shape:',y.shape)"
   ]
  },
  {
   "cell_type": "markdown",
   "metadata": {
    "id": "Jge_q5gUEH2D"
   },
   "source": [
    "## Machine learning"
   ]
  },
  {
   "cell_type": "code",
   "execution_count": 9,
   "metadata": {
    "colab": {
     "base_uri": "https://localhost:8080/",
     "height": 85
    },
    "id": "EHl0ACGXEH2D",
    "outputId": "34ac851f-2fe6-41b1-bd75-5de0220c28a6"
   },
   "outputs": [
    {
     "name": "stdout",
     "output_type": "stream",
     "text": [
      "Train set: (1168, 79)\n",
      "Train set: (1168,)\n",
      "Test set: (292, 79)\n",
      "Test set: (292,)\n"
     ]
    }
   ],
   "source": [
    "# Generate train and test sets\n",
    "X_train, X_test, y_train, y_test = train_test_split(X, y, test_size=0.2, random_state=42)\n",
    "\n",
    "# Size of sets\n",
    "print(\"Train set:\",X_train.shape)\n",
    "print(\"Train set:\",y_train.shape)\n",
    "print(\"Test set:\",X_test.shape)\n",
    "print(\"Test set:\",y_test.shape)"
   ]
  },
  {
   "cell_type": "code",
   "execution_count": 10,
   "metadata": {
    "id": "iH45gabNEH2F"
   },
   "outputs": [],
   "source": [
    "# Ignore runtime warnings\n",
    "import warnings\n",
    "warnings.filterwarnings(\"ignore\", category=RuntimeWarning)"
   ]
  },
  {
   "cell_type": "code",
   "execution_count": 11,
   "metadata": {
    "id": "PsHPihvyEH2H"
   },
   "outputs": [],
   "source": [
    "# cross-validator : ShuffleSplit \n",
    "ss = ShuffleSplit(n_splits = 10, test_size = 0.2, random_state = 42) # To avoid over-fitting\n",
    "\n",
    "# Functions to be used in the pipeline\n",
    "skb = SelectKBest(f_regression)\n",
    "\n",
    "### Import regressor ###\n",
    "reg = RandomForestRegressor()\n",
    "\n",
    "# definition of the pipeline\n",
    "pipeline = Pipeline(steps = [\n",
    "    (\"SKB\",skb),\n",
    "    (\"RDFR\",reg)\n",
    "])   \n",
    "\n",
    "# parameters to tune \n",
    "param_grid = {\n",
    "    \"SKB__k\":[5,\"all\"],\n",
    "    \"RDFR__n_estimators\":[100,200],\n",
    "    \"RDFR__max_depth\":[None],\n",
    "    \"RDFR__min_samples_split\":[2],\n",
    "    \"RDFR__min_samples_leaf\":[2]\n",
    "} \n",
    "\n",
    "# exhaustive search over specified parameter\n",
    "grid = GridSearchCV(pipeline, param_grid, verbose = 1, cv = ss)"
   ]
  },
  {
   "cell_type": "code",
   "execution_count": 12,
   "metadata": {
    "colab": {
     "base_uri": "https://localhost:8080/",
     "height": 204
    },
    "id": "VmxlHYzhEH2J",
    "outputId": "372ba54b-da91-4086-bb8a-36d9985a8636",
    "scrolled": true
   },
   "outputs": [
    {
     "name": "stdout",
     "output_type": "stream",
     "text": [
      " > training classifier:\n",
      "Fitting 10 folds for each of 4 candidates, totalling 40 fits\n"
     ]
    },
    {
     "name": "stderr",
     "output_type": "stream",
     "text": [
      "[Parallel(n_jobs=1)]: Using backend SequentialBackend with 1 concurrent workers.\n",
      "[Parallel(n_jobs=1)]: Done  40 out of  40 | elapsed:   43.3s finished\n"
     ]
    },
    {
     "name": "stdout",
     "output_type": "stream",
     "text": [
      "training time:  46.313 s\n",
      "testing time:  0.027 s\n",
      "\n",
      " > Best grid search:\n",
      "{'RDFR__max_depth': None, 'RDFR__min_samples_leaf': 2, 'RDFR__min_samples_split': 2, 'RDFR__n_estimators': 200, 'SKB__k': 'all'}\n",
      "\n",
      " > Regressor dumped\n"
     ]
    }
   ],
   "source": [
    "# training classifier\n",
    "print (\" > training classifier:\")\n",
    "t0 = time()\n",
    "grid.fit(X_train, y_train.ravel())\n",
    "print (\"training time: \", round(time()-t0, 3), \"s\")\n",
    "\n",
    "# best classifier using the cross-validator and the Stratified Shuffle Split \n",
    "reg = grid.best_estimator_\n",
    "\n",
    "# predicition with the classifier\n",
    "t0 = time()\n",
    "pred = reg.predict(X_test)\n",
    "print (\"testing time: \", round(time()-t0, 3), \"s\")\n",
    "\n",
    "# print grid parameters\n",
    "print (\"\\n > Best grid search:\")\n",
    "print (grid.best_params_)\n",
    "\n",
    "# dump classifier in a pickle file\n",
    "print (\"\\n > Regressor dumped\")\n",
    "with open(\"housing_RFR_best_reg.pkl\", 'wb') as file:\n",
    "    pk.dump(reg, file)"
   ]
  },
  {
   "cell_type": "code",
   "execution_count": 13,
   "metadata": {
    "colab": {
     "base_uri": "https://localhost:8080/",
     "height": 51
    },
    "id": "j9CCzKkVEH2L",
    "outputId": "d3403231-3801-432c-fd64-7baf7e893abc"
   },
   "outputs": [
    {
     "name": "stdout",
     "output_type": "stream",
     "text": [
      "RMSE: 33223.85975719393 \n",
      "r2: 0.8560915367417617\n"
     ]
    }
   ],
   "source": [
    "RMSE = np.sqrt(mean_squared_error(y_test, pred))\n",
    "R2 = r2_score(y_test, pred)\n",
    "print('RMSE:',RMSE,'\\nr2:',R2)"
   ]
  },
  {
   "cell_type": "code",
   "execution_count": 14,
   "metadata": {
    "colab": {
     "base_uri": "https://localhost:8080/",
     "height": 403
    },
    "id": "jWPqo57OEH2N",
    "outputId": "e9c1fd95-43c4-4931-a64a-0c6df9d66528"
   },
   "outputs": [
    {
     "data": {
      "text/plain": [
       "<seaborn.axisgrid.FacetGrid at 0x7fc857f13ac8>"
      ]
     },
     "execution_count": 14,
     "metadata": {
      "tags": []
     },
     "output_type": "execute_result"
    },
    {
     "data": {
      "image/png": "[encoded data removed]",
      "text/plain": [
       "<Figure size 360x360 with 1 Axes>"
      ]
     },
     "metadata": {
      "needs_background": "light",
      "tags": []
     },
     "output_type": "display_data"
    }
   ],
   "source": [
    "RFR_results = pd.DataFrame({\n",
    "    'y_test':y_test,\n",
    "    'pred':pred\n",
    "})\n",
    "sns.lmplot(data=RFR_results, x=\"y_test\", y=\"pred\")"
   ]
  },
  {
   "cell_type": "code",
   "execution_count": 15,
   "metadata": {
    "id": "WGPJCQnfEH2P"
   },
   "outputs": [],
   "source": [
    "# Submit predictions\n",
    "submission = pd.DataFrame({\n",
    "    'Id': pd.read_csv('test.csv')['Id'],\n",
    "    'SalePrice': reg.predict(practice)\n",
    "})\n",
    "submission.to_csv('RFR_submission.csv', index=False)"
   ]
  },
  {
   "cell_type": "markdown",
   "metadata": {
    "id": "7HARaaqsEH2R"
   },
   "source": [
    "## Deep learning"
   ]
  },
  {
   "cell_type": "code",
   "execution_count": 16,
   "metadata": {
    "id": "ZhMPLrkFEH2S"
   },
   "outputs": [],
   "source": [
    "import keras\n",
    "from keras.models import Sequential\n",
    "from keras.layers import Dense\n",
    "from keras.callbacks import EarlyStopping, ModelCheckpoint \n",
    "from tensorflow.keras.models import load_model"
   ]
  },
  {
   "cell_type": "code",
   "execution_count": 17,
   "metadata": {
    "colab": {
     "base_uri": "https://localhost:8080/",
     "height": 51
    },
    "id": "JPPuFBwKEH2U",
    "outputId": "efab39bf-04bb-4528-bb10-468ae17fdeda"
   },
   "outputs": [
    {
     "data": {
      "text/plain": [
       "array([0.02761715, 0.02404083, 0.02960399, ..., 0.03529961, 0.01882536,\n",
       "       0.01953731])"
      ]
     },
     "execution_count": 17,
     "metadata": {
      "tags": []
     },
     "output_type": "execute_result"
    }
   ],
   "source": [
    "# l2 normalization and undoing l2 normalization (no built-in function to retrieve initial data...)\n",
    "w = np.sqrt(sum(y**2)) # store sqrt of the sum\n",
    "\n",
    "y_norm = y/w\n",
    "y_norm"
   ]
  },
  {
   "cell_type": "code",
   "execution_count": 18,
   "metadata": {
    "colab": {
     "base_uri": "https://localhost:8080/",
     "height": 51
    },
    "id": "xZPohSTCEH2X",
    "outputId": "eb564877-a2d5-4a10-a1c4-8cf6a57951f9"
   },
   "outputs": [
    {
     "name": "stdout",
     "output_type": "stream",
     "text": [
      "[208500. 181500. 223500. ... 266500. 142125. 147500.]\n",
      "[208500 181500 223500 ... 266500 142125 147500]\n"
     ]
    }
   ],
   "source": [
    "# Check good functionning\n",
    "print(y_norm*w)\n",
    "print(y)"
   ]
  },
  {
   "cell_type": "code",
   "execution_count": 19,
   "metadata": {
    "colab": {
     "base_uri": "https://localhost:8080/",
     "height": 85
    },
    "id": "U0eNW7U4EH2Z",
    "outputId": "3a6f237a-7bb6-40db-9de4-958cef0c16a7"
   },
   "outputs": [
    {
     "name": "stdout",
     "output_type": "stream",
     "text": [
      "Train set: (1168, 79)\n",
      "Train set: (1168,)\n",
      "Test set: (292, 79)\n",
      "Test set: (292,)\n"
     ]
    }
   ],
   "source": [
    "# Generate train and test sets\n",
    "X_train, X_test, y_train, y_test = train_test_split(X, y_norm, test_size=0.2, random_state=42)\n",
    "\n",
    "# Size of sets\n",
    "print(\"Train set:\",X_train.shape)\n",
    "print(\"Train set:\",y_train.shape)\n",
    "print(\"Test set:\",X_test.shape)\n",
    "print(\"Test set:\",y_test.shape)"
   ]
  },
  {
   "cell_type": "code",
   "execution_count": 115,
   "metadata": {
    "colab": {
     "base_uri": "https://localhost:8080/",
     "height": 255
    },
    "id": "Mqq83o3dEH2c",
    "outputId": "f5ff148f-d396-42f0-87dc-53b0317e998c"
   },
   "outputs": [
    {
     "name": "stdout",
     "output_type": "stream",
     "text": [
      "Model: \"sequential_4\"\n",
      "_________________________________________________________________\n",
      "Layer (type)                 Output Shape              Param #   \n",
      "=================================================================\n",
      "dense_13 (Dense)             (None, 16)                1280      \n",
      "_________________________________________________________________\n",
      "dense_14 (Dense)             (None, 16)                272       \n",
      "_________________________________________________________________\n",
      "dense_15 (Dense)             (None, 1)                 17        \n",
      "=================================================================\n",
      "Total params: 1,569\n",
      "Trainable params: 1,569\n",
      "Non-trainable params: 0\n",
      "_________________________________________________________________\n"
     ]
    }
   ],
   "source": [
    "# Neural Net\n",
    "model = Sequential()\n",
    "model.add(Dense(units = 16, kernel_initializer = 'normal', activation = 'relu', input_dim = X_train.shape[1]))\n",
    "model.add(Dense(units = 16, kernel_initializer = 'normal', activation = 'relu'))\n",
    "model.add(Dense(units = 1, kernel_initializer = 'normal', activation = 'sigmoid'))\n",
    "model.summary()"
   ]
  },
  {
   "cell_type": "code",
   "execution_count": 125,
   "metadata": {
    "id": "YKgrFHMOEH2e"
   },
   "outputs": [],
   "source": [
    "from keras.metrics import MeanSquaredError\n",
    "\n",
    "# Compiling\n",
    "model.compile(optimizer = 'adam', loss = 'mean_squared_logarithmic_error', metrics = ['mean_squared_logarithmic_error'])"
   ]
  },
  {
   "cell_type": "code",
   "execution_count": 126,
   "metadata": {
    "colab": {
     "base_uri": "https://localhost:8080/",
     "height": 1000
    },
    "id": "FVjm6ZchEH2g",
    "outputId": "6d500344-9de5-43f7-8276-1eebcf53560c"
   },
   "outputs": [
    {
     "name": "stdout",
     "output_type": "stream",
     "text": [
      "Epoch 1/100\n",
      "25/25 [==============================] - 0s 12ms/step - loss: 7.8719e-05 - mean_squared_logarithmic_error: 7.8719e-05 - val_loss: 6.1603e-05 - val_mean_squared_logarithmic_error: 6.1603e-05\n",
      "Epoch 2/100\n",
      "25/25 [==============================] - 0s 6ms/step - loss: 4.7159e-05 - mean_squared_logarithmic_error: 4.7159e-05 - val_loss: 4.9095e-05 - val_mean_squared_logarithmic_error: 4.9095e-05\n",
      "Epoch 3/100\n",
      "25/25 [==============================] - 0s 6ms/step - loss: 4.0668e-05 - mean_squared_logarithmic_error: 4.0668e-05 - val_loss: 4.6871e-05 - val_mean_squared_logarithmic_error: 4.6871e-05\n",
      "Epoch 4/100\n",
      "25/25 [==============================] - 0s 6ms/step - loss: 4.1507e-05 - mean_squared_logarithmic_error: 4.1507e-05 - val_loss: 4.7322e-05 - val_mean_squared_logarithmic_error: 4.7322e-05\n",
      "Epoch 5/100\n",
      "25/25 [==============================] - 0s 5ms/step - loss: 3.8198e-05 - mean_squared_logarithmic_error: 3.8198e-05 - val_loss: 4.4757e-05 - val_mean_squared_logarithmic_error: 4.4757e-05\n",
      "Epoch 6/100\n",
      "25/25 [==============================] - 0s 5ms/step - loss: 3.9937e-05 - mean_squared_logarithmic_error: 3.9937e-05 - val_loss: 4.6119e-05 - val_mean_squared_logarithmic_error: 4.6119e-05\n",
      "Epoch 7/100\n",
      "25/25 [==============================] - 0s 5ms/step - loss: 3.7238e-05 - mean_squared_logarithmic_error: 3.7238e-05 - val_loss: 4.6548e-05 - val_mean_squared_logarithmic_error: 4.6548e-05\n",
      "Epoch 8/100\n",
      "25/25 [==============================] - 0s 5ms/step - loss: 3.6910e-05 - mean_squared_logarithmic_error: 3.6910e-05 - val_loss: 5.7588e-05 - val_mean_squared_logarithmic_error: 5.7588e-05\n",
      "Epoch 9/100\n",
      "25/25 [==============================] - 0s 6ms/step - loss: 3.7032e-05 - mean_squared_logarithmic_error: 3.7032e-05 - val_loss: 4.1886e-05 - val_mean_squared_logarithmic_error: 4.1886e-05\n",
      "Epoch 10/100\n",
      "25/25 [==============================] - 0s 5ms/step - loss: 3.3508e-05 - mean_squared_logarithmic_error: 3.3508e-05 - val_loss: 4.8764e-05 - val_mean_squared_logarithmic_error: 4.8764e-05\n",
      "Epoch 11/100\n",
      "25/25 [==============================] - 0s 6ms/step - loss: 3.4086e-05 - mean_squared_logarithmic_error: 3.4086e-05 - val_loss: 4.0467e-05 - val_mean_squared_logarithmic_error: 4.0467e-05\n",
      "Epoch 12/100\n",
      "25/25 [==============================] - 0s 5ms/step - loss: 3.4226e-05 - mean_squared_logarithmic_error: 3.4226e-05 - val_loss: 5.1514e-05 - val_mean_squared_logarithmic_error: 5.1514e-05\n",
      "Epoch 13/100\n",
      "25/25 [==============================] - 0s 5ms/step - loss: 3.7094e-05 - mean_squared_logarithmic_error: 3.7094e-05 - val_loss: 5.7662e-05 - val_mean_squared_logarithmic_error: 5.7662e-05\n",
      "Epoch 14/100\n",
      "25/25 [==============================] - 0s 5ms/step - loss: 3.3729e-05 - mean_squared_logarithmic_error: 3.3729e-05 - val_loss: 5.7559e-05 - val_mean_squared_logarithmic_error: 5.7559e-05\n",
      "Epoch 15/100\n",
      "25/25 [==============================] - 0s 5ms/step - loss: 3.5318e-05 - mean_squared_logarithmic_error: 3.5318e-05 - val_loss: 4.2439e-05 - val_mean_squared_logarithmic_error: 4.2439e-05\n",
      "Epoch 16/100\n",
      "25/25 [==============================] - 0s 5ms/step - loss: 3.2556e-05 - mean_squared_logarithmic_error: 3.2556e-05 - val_loss: 6.8396e-05 - val_mean_squared_logarithmic_error: 6.8396e-05\n",
      "Epoch 17/100\n",
      "25/25 [==============================] - 0s 5ms/step - loss: 4.2580e-05 - mean_squared_logarithmic_error: 4.2580e-05 - val_loss: 4.2307e-05 - val_mean_squared_logarithmic_error: 4.2307e-05\n",
      "Epoch 18/100\n",
      "25/25 [==============================] - 0s 5ms/step - loss: 3.2234e-05 - mean_squared_logarithmic_error: 3.2234e-05 - val_loss: 3.8182e-05 - val_mean_squared_logarithmic_error: 3.8182e-05\n",
      "Epoch 19/100\n",
      "25/25 [==============================] - 0s 5ms/step - loss: 3.2264e-05 - mean_squared_logarithmic_error: 3.2264e-05 - val_loss: 3.9799e-05 - val_mean_squared_logarithmic_error: 3.9799e-05\n",
      "Epoch 20/100\n",
      "25/25 [==============================] - 0s 6ms/step - loss: 2.6913e-05 - mean_squared_logarithmic_error: 2.6913e-05 - val_loss: 3.7033e-05 - val_mean_squared_logarithmic_error: 3.7033e-05\n",
      "Epoch 21/100\n",
      "25/25 [==============================] - 0s 5ms/step - loss: 2.7000e-05 - mean_squared_logarithmic_error: 2.7000e-05 - val_loss: 5.6151e-05 - val_mean_squared_logarithmic_error: 5.6151e-05\n",
      "Epoch 22/100\n",
      "25/25 [==============================] - 0s 5ms/step - loss: 2.8153e-05 - mean_squared_logarithmic_error: 2.8153e-05 - val_loss: 3.7444e-05 - val_mean_squared_logarithmic_error: 3.7444e-05\n",
      "Epoch 23/100\n",
      "25/25 [==============================] - 0s 5ms/step - loss: 2.9432e-05 - mean_squared_logarithmic_error: 2.9432e-05 - val_loss: 4.1906e-05 - val_mean_squared_logarithmic_error: 4.1906e-05\n",
      "Epoch 24/100\n",
      "25/25 [==============================] - 0s 5ms/step - loss: 3.1137e-05 - mean_squared_logarithmic_error: 3.1137e-05 - val_loss: 1.2991e-04 - val_mean_squared_logarithmic_error: 1.2991e-04\n",
      "Epoch 25/100\n",
      "25/25 [==============================] - 0s 5ms/step - loss: 3.8989e-05 - mean_squared_logarithmic_error: 3.8989e-05 - val_loss: 3.7841e-05 - val_mean_squared_logarithmic_error: 3.7841e-05\n",
      "Epoch 26/100\n",
      "25/25 [==============================] - 0s 6ms/step - loss: 2.8140e-05 - mean_squared_logarithmic_error: 2.8140e-05 - val_loss: 3.6161e-05 - val_mean_squared_logarithmic_error: 3.6161e-05\n",
      "Epoch 27/100\n",
      "25/25 [==============================] - 0s 5ms/step - loss: 2.8371e-05 - mean_squared_logarithmic_error: 2.8371e-05 - val_loss: 4.3464e-05 - val_mean_squared_logarithmic_error: 4.3464e-05\n",
      "Epoch 28/100\n",
      "25/25 [==============================] - 0s 5ms/step - loss: 2.6507e-05 - mean_squared_logarithmic_error: 2.6507e-05 - val_loss: 3.4980e-05 - val_mean_squared_logarithmic_error: 3.4980e-05\n",
      "Epoch 29/100\n",
      "25/25 [==============================] - 0s 6ms/step - loss: 2.6752e-05 - mean_squared_logarithmic_error: 2.6752e-05 - val_loss: 3.4771e-05 - val_mean_squared_logarithmic_error: 3.4771e-05\n",
      "Epoch 30/100\n",
      "25/25 [==============================] - 0s 5ms/step - loss: 2.6741e-05 - mean_squared_logarithmic_error: 2.6741e-05 - val_loss: 3.6489e-05 - val_mean_squared_logarithmic_error: 3.6489e-05\n",
      "Epoch 31/100\n",
      "25/25 [==============================] - 0s 4ms/step - loss: 2.9121e-05 - mean_squared_logarithmic_error: 2.9121e-05 - val_loss: 4.7359e-05 - val_mean_squared_logarithmic_error: 4.7359e-05\n",
      "Epoch 32/100\n",
      "25/25 [==============================] - 0s 4ms/step - loss: 2.8970e-05 - mean_squared_logarithmic_error: 2.8970e-05 - val_loss: 3.9541e-05 - val_mean_squared_logarithmic_error: 3.9541e-05\n",
      "Epoch 33/100\n",
      "25/25 [==============================] - 0s 4ms/step - loss: 2.5183e-05 - mean_squared_logarithmic_error: 2.5183e-05 - val_loss: 3.7093e-05 - val_mean_squared_logarithmic_error: 3.7093e-05\n",
      "Epoch 34/100\n",
      "25/25 [==============================] - 0s 5ms/step - loss: 2.6368e-05 - mean_squared_logarithmic_error: 2.6368e-05 - val_loss: 3.8129e-05 - val_mean_squared_logarithmic_error: 3.8129e-05\n",
      "Epoch 35/100\n",
      "25/25 [==============================] - 0s 5ms/step - loss: 2.3983e-05 - mean_squared_logarithmic_error: 2.3983e-05 - val_loss: 3.7485e-05 - val_mean_squared_logarithmic_error: 3.7485e-05\n",
      "Epoch 36/100\n",
      "25/25 [==============================] - 0s 4ms/step - loss: 2.3020e-05 - mean_squared_logarithmic_error: 2.3020e-05 - val_loss: 4.2306e-05 - val_mean_squared_logarithmic_error: 4.2306e-05\n",
      "Epoch 37/100\n",
      "25/25 [==============================] - 0s 5ms/step - loss: 2.2258e-05 - mean_squared_logarithmic_error: 2.2258e-05 - val_loss: 3.8878e-05 - val_mean_squared_logarithmic_error: 3.8878e-05\n",
      "Epoch 38/100\n",
      "25/25 [==============================] - 0s 5ms/step - loss: 2.2425e-05 - mean_squared_logarithmic_error: 2.2425e-05 - val_loss: 3.6095e-05 - val_mean_squared_logarithmic_error: 3.6095e-05\n",
      "Epoch 39/100\n",
      "25/25 [==============================] - 0s 4ms/step - loss: 3.0009e-05 - mean_squared_logarithmic_error: 3.0009e-05 - val_loss: 3.6670e-05 - val_mean_squared_logarithmic_error: 3.6670e-05\n",
      "Epoch 40/100\n",
      "25/25 [==============================] - 0s 5ms/step - loss: 2.2431e-05 - mean_squared_logarithmic_error: 2.2431e-05 - val_loss: 3.5636e-05 - val_mean_squared_logarithmic_error: 3.5636e-05\n",
      "Epoch 41/100\n",
      "25/25 [==============================] - 0s 4ms/step - loss: 2.8690e-05 - mean_squared_logarithmic_error: 2.8690e-05 - val_loss: 3.7057e-05 - val_mean_squared_logarithmic_error: 3.7057e-05\n",
      "Epoch 42/100\n",
      "25/25 [==============================] - 0s 5ms/step - loss: 2.5251e-05 - mean_squared_logarithmic_error: 2.5251e-05 - val_loss: 3.3617e-05 - val_mean_squared_logarithmic_error: 3.3617e-05\n",
      "Epoch 43/100\n",
      "25/25 [==============================] - 0s 6ms/step - loss: 2.5626e-05 - mean_squared_logarithmic_error: 2.5626e-05 - val_loss: 3.3411e-05 - val_mean_squared_logarithmic_error: 3.3411e-05\n",
      "Epoch 44/100\n",
      "25/25 [==============================] - 0s 5ms/step - loss: 2.4340e-05 - mean_squared_logarithmic_error: 2.4340e-05 - val_loss: 3.4159e-05 - val_mean_squared_logarithmic_error: 3.4159e-05\n",
      "Epoch 45/100\n",
      "25/25 [==============================] - 0s 5ms/step - loss: 2.5280e-05 - mean_squared_logarithmic_error: 2.5280e-05 - val_loss: 4.7682e-05 - val_mean_squared_logarithmic_error: 4.7682e-05\n",
      "Epoch 46/100\n",
      "25/25 [==============================] - 0s 5ms/step - loss: 2.1864e-05 - mean_squared_logarithmic_error: 2.1864e-05 - val_loss: 3.8399e-05 - val_mean_squared_logarithmic_error: 3.8399e-05\n",
      "Epoch 47/100\n",
      "25/25 [==============================] - 0s 5ms/step - loss: 2.3354e-05 - mean_squared_logarithmic_error: 2.3354e-05 - val_loss: 3.3546e-05 - val_mean_squared_logarithmic_error: 3.3546e-05\n",
      "Epoch 48/100\n",
      "25/25 [==============================] - 0s 5ms/step - loss: 2.2595e-05 - mean_squared_logarithmic_error: 2.2595e-05 - val_loss: 3.5736e-05 - val_mean_squared_logarithmic_error: 3.5736e-05\n",
      "Epoch 49/100\n",
      "25/25 [==============================] - 0s 5ms/step - loss: 2.0777e-05 - mean_squared_logarithmic_error: 2.0777e-05 - val_loss: 3.4333e-05 - val_mean_squared_logarithmic_error: 3.4333e-05\n",
      "Epoch 50/100\n",
      "25/25 [==============================] - 0s 5ms/step - loss: 2.3544e-05 - mean_squared_logarithmic_error: 2.3544e-05 - val_loss: 3.4019e-05 - val_mean_squared_logarithmic_error: 3.4019e-05\n",
      "Epoch 51/100\n",
      "25/25 [==============================] - 0s 5ms/step - loss: 2.3734e-05 - mean_squared_logarithmic_error: 2.3734e-05 - val_loss: 3.8609e-05 - val_mean_squared_logarithmic_error: 3.8609e-05\n",
      "Epoch 52/100\n",
      "25/25 [==============================] - 0s 5ms/step - loss: 2.1889e-05 - mean_squared_logarithmic_error: 2.1889e-05 - val_loss: 3.1244e-05 - val_mean_squared_logarithmic_error: 3.1244e-05\n",
      "Epoch 53/100\n",
      "25/25 [==============================] - 0s 5ms/step - loss: 2.4940e-05 - mean_squared_logarithmic_error: 2.4940e-05 - val_loss: 5.5279e-05 - val_mean_squared_logarithmic_error: 5.5279e-05\n",
      "Epoch 54/100\n",
      "25/25 [==============================] - 0s 5ms/step - loss: 2.6356e-05 - mean_squared_logarithmic_error: 2.6356e-05 - val_loss: 3.3618e-05 - val_mean_squared_logarithmic_error: 3.3618e-05\n",
      "Epoch 55/100\n",
      "25/25 [==============================] - 0s 5ms/step - loss: 2.2874e-05 - mean_squared_logarithmic_error: 2.2874e-05 - val_loss: 3.3775e-05 - val_mean_squared_logarithmic_error: 3.3775e-05\n",
      "Epoch 56/100\n",
      "25/25 [==============================] - 0s 5ms/step - loss: 2.1111e-05 - mean_squared_logarithmic_error: 2.1111e-05 - val_loss: 3.3832e-05 - val_mean_squared_logarithmic_error: 3.3832e-05\n",
      "Epoch 57/100\n",
      "25/25 [==============================] - 0s 5ms/step - loss: 2.1397e-05 - mean_squared_logarithmic_error: 2.1397e-05 - val_loss: 3.2216e-05 - val_mean_squared_logarithmic_error: 3.2216e-05\n",
      "Epoch 58/100\n",
      "25/25 [==============================] - 0s 5ms/step - loss: 2.7287e-05 - mean_squared_logarithmic_error: 2.7287e-05 - val_loss: 4.8527e-05 - val_mean_squared_logarithmic_error: 4.8527e-05\n",
      "Epoch 59/100\n",
      "25/25 [==============================] - 0s 5ms/step - loss: 2.9807e-05 - mean_squared_logarithmic_error: 2.9807e-05 - val_loss: 3.6559e-05 - val_mean_squared_logarithmic_error: 3.6559e-05\n",
      "Epoch 60/100\n",
      "25/25 [==============================] - 0s 5ms/step - loss: 2.1973e-05 - mean_squared_logarithmic_error: 2.1973e-05 - val_loss: 5.3912e-05 - val_mean_squared_logarithmic_error: 5.3912e-05\n",
      "Epoch 61/100\n",
      "25/25 [==============================] - 0s 5ms/step - loss: 2.4189e-05 - mean_squared_logarithmic_error: 2.4189e-05 - val_loss: 3.6646e-05 - val_mean_squared_logarithmic_error: 3.6646e-05\n",
      "Epoch 62/100\n",
      "25/25 [==============================] - 0s 5ms/step - loss: 1.9476e-05 - mean_squared_logarithmic_error: 1.9476e-05 - val_loss: 3.5019e-05 - val_mean_squared_logarithmic_error: 3.5019e-05\n",
      "Epoch 63/100\n",
      "25/25 [==============================] - 0s 5ms/step - loss: 1.9124e-05 - mean_squared_logarithmic_error: 1.9124e-05 - val_loss: 3.2038e-05 - val_mean_squared_logarithmic_error: 3.2038e-05\n",
      "Epoch 64/100\n",
      "25/25 [==============================] - 0s 5ms/step - loss: 1.9603e-05 - mean_squared_logarithmic_error: 1.9603e-05 - val_loss: 3.7625e-05 - val_mean_squared_logarithmic_error: 3.7625e-05\n",
      "Epoch 65/100\n",
      "25/25 [==============================] - 0s 5ms/step - loss: 2.0988e-05 - mean_squared_logarithmic_error: 2.0988e-05 - val_loss: 3.8746e-05 - val_mean_squared_logarithmic_error: 3.8746e-05\n",
      "Epoch 66/100\n",
      "25/25 [==============================] - 0s 5ms/step - loss: 2.3853e-05 - mean_squared_logarithmic_error: 2.3853e-05 - val_loss: 3.5061e-05 - val_mean_squared_logarithmic_error: 3.5061e-05\n",
      "Epoch 67/100\n",
      "25/25 [==============================] - 0s 5ms/step - loss: 2.0606e-05 - mean_squared_logarithmic_error: 2.0606e-05 - val_loss: 3.4501e-05 - val_mean_squared_logarithmic_error: 3.4501e-05\n",
      "Epoch 68/100\n",
      "25/25 [==============================] - 0s 5ms/step - loss: 2.2289e-05 - mean_squared_logarithmic_error: 2.2289e-05 - val_loss: 3.4964e-05 - val_mean_squared_logarithmic_error: 3.4964e-05\n",
      "Epoch 69/100\n",
      "25/25 [==============================] - 0s 5ms/step - loss: 2.1616e-05 - mean_squared_logarithmic_error: 2.1616e-05 - val_loss: 3.5577e-05 - val_mean_squared_logarithmic_error: 3.5577e-05\n",
      "Epoch 70/100\n",
      "25/25 [==============================] - 0s 5ms/step - loss: 1.8309e-05 - mean_squared_logarithmic_error: 1.8309e-05 - val_loss: 3.3751e-05 - val_mean_squared_logarithmic_error: 3.3751e-05\n",
      "Epoch 71/100\n",
      "25/25 [==============================] - 0s 5ms/step - loss: 1.9913e-05 - mean_squared_logarithmic_error: 1.9913e-05 - val_loss: 3.2775e-05 - val_mean_squared_logarithmic_error: 3.2775e-05\n",
      "Epoch 72/100\n",
      "25/25 [==============================] - 0s 5ms/step - loss: 1.9442e-05 - mean_squared_logarithmic_error: 1.9442e-05 - val_loss: 3.3610e-05 - val_mean_squared_logarithmic_error: 3.3610e-05\n",
      "Epoch 73/100\n",
      "25/25 [==============================] - 0s 5ms/step - loss: 1.7913e-05 - mean_squared_logarithmic_error: 1.7913e-05 - val_loss: 3.3787e-05 - val_mean_squared_logarithmic_error: 3.3787e-05\n",
      "Epoch 74/100\n",
      "25/25 [==============================] - 0s 5ms/step - loss: 2.0079e-05 - mean_squared_logarithmic_error: 2.0079e-05 - val_loss: 4.5073e-05 - val_mean_squared_logarithmic_error: 4.5073e-05\n",
      "Epoch 75/100\n",
      "25/25 [==============================] - 0s 5ms/step - loss: 2.0259e-05 - mean_squared_logarithmic_error: 2.0259e-05 - val_loss: 3.3050e-05 - val_mean_squared_logarithmic_error: 3.3050e-05\n",
      "Epoch 76/100\n",
      "25/25 [==============================] - 0s 5ms/step - loss: 1.6995e-05 - mean_squared_logarithmic_error: 1.6995e-05 - val_loss: 3.8440e-05 - val_mean_squared_logarithmic_error: 3.8440e-05\n",
      "Epoch 77/100\n",
      "25/25 [==============================] - 0s 5ms/step - loss: 2.0183e-05 - mean_squared_logarithmic_error: 2.0183e-05 - val_loss: 5.4976e-05 - val_mean_squared_logarithmic_error: 5.4976e-05\n",
      "Epoch 78/100\n",
      "25/25 [==============================] - 0s 5ms/step - loss: 2.8067e-05 - mean_squared_logarithmic_error: 2.8067e-05 - val_loss: 3.6788e-05 - val_mean_squared_logarithmic_error: 3.6788e-05\n",
      "Epoch 79/100\n",
      "25/25 [==============================] - 0s 6ms/step - loss: 2.1558e-05 - mean_squared_logarithmic_error: 2.1558e-05 - val_loss: 3.4410e-05 - val_mean_squared_logarithmic_error: 3.4410e-05\n",
      "Epoch 80/100\n",
      "25/25 [==============================] - 0s 6ms/step - loss: 1.8743e-05 - mean_squared_logarithmic_error: 1.8743e-05 - val_loss: 3.3289e-05 - val_mean_squared_logarithmic_error: 3.3289e-05\n",
      "Epoch 81/100\n",
      "25/25 [==============================] - 0s 5ms/step - loss: 2.1739e-05 - mean_squared_logarithmic_error: 2.1739e-05 - val_loss: 3.4744e-05 - val_mean_squared_logarithmic_error: 3.4744e-05\n",
      "Epoch 82/100\n",
      "25/25 [==============================] - 0s 5ms/step - loss: 2.0699e-05 - mean_squared_logarithmic_error: 2.0699e-05 - val_loss: 3.4647e-05 - val_mean_squared_logarithmic_error: 3.4647e-05\n",
      "Epoch 83/100\n",
      "25/25 [==============================] - 0s 5ms/step - loss: 1.9227e-05 - mean_squared_logarithmic_error: 1.9227e-05 - val_loss: 3.2817e-05 - val_mean_squared_logarithmic_error: 3.2817e-05\n",
      "Epoch 84/100\n",
      "25/25 [==============================] - 0s 5ms/step - loss: 1.8811e-05 - mean_squared_logarithmic_error: 1.8811e-05 - val_loss: 3.2532e-05 - val_mean_squared_logarithmic_error: 3.2532e-05\n",
      "Epoch 85/100\n",
      "25/25 [==============================] - 0s 5ms/step - loss: 1.6732e-05 - mean_squared_logarithmic_error: 1.6732e-05 - val_loss: 3.4910e-05 - val_mean_squared_logarithmic_error: 3.4910e-05\n",
      "Epoch 86/100\n",
      "25/25 [==============================] - 0s 5ms/step - loss: 1.7789e-05 - mean_squared_logarithmic_error: 1.7789e-05 - val_loss: 4.4277e-05 - val_mean_squared_logarithmic_error: 4.4277e-05\n",
      "Epoch 87/100\n",
      "25/25 [==============================] - 0s 5ms/step - loss: 2.0392e-05 - mean_squared_logarithmic_error: 2.0392e-05 - val_loss: 4.0924e-05 - val_mean_squared_logarithmic_error: 4.0924e-05\n",
      "Epoch 88/100\n",
      "25/25 [==============================] - 0s 5ms/step - loss: 2.0081e-05 - mean_squared_logarithmic_error: 2.0081e-05 - val_loss: 3.4468e-05 - val_mean_squared_logarithmic_error: 3.4468e-05\n",
      "Epoch 89/100\n",
      "25/25 [==============================] - 0s 5ms/step - loss: 1.7493e-05 - mean_squared_logarithmic_error: 1.7493e-05 - val_loss: 5.4967e-05 - val_mean_squared_logarithmic_error: 5.4967e-05\n",
      "Epoch 90/100\n",
      "25/25 [==============================] - 0s 5ms/step - loss: 1.9514e-05 - mean_squared_logarithmic_error: 1.9514e-05 - val_loss: 3.4432e-05 - val_mean_squared_logarithmic_error: 3.4432e-05\n",
      "Epoch 91/100\n",
      "25/25 [==============================] - 0s 5ms/step - loss: 1.7122e-05 - mean_squared_logarithmic_error: 1.7122e-05 - val_loss: 3.5929e-05 - val_mean_squared_logarithmic_error: 3.5929e-05\n",
      "Epoch 92/100\n",
      "25/25 [==============================] - 0s 5ms/step - loss: 1.7263e-05 - mean_squared_logarithmic_error: 1.7263e-05 - val_loss: 3.8147e-05 - val_mean_squared_logarithmic_error: 3.8147e-05\n",
      "Epoch 93/100\n",
      "25/25 [==============================] - 0s 5ms/step - loss: 1.6672e-05 - mean_squared_logarithmic_error: 1.6672e-05 - val_loss: 3.5847e-05 - val_mean_squared_logarithmic_error: 3.5847e-05\n",
      "Epoch 94/100\n",
      "25/25 [==============================] - 0s 5ms/step - loss: 1.7707e-05 - mean_squared_logarithmic_error: 1.7707e-05 - val_loss: 3.3574e-05 - val_mean_squared_logarithmic_error: 3.3574e-05\n",
      "Epoch 95/100\n",
      "25/25 [==============================] - 0s 5ms/step - loss: 1.6883e-05 - mean_squared_logarithmic_error: 1.6883e-05 - val_loss: 3.2185e-05 - val_mean_squared_logarithmic_error: 3.2185e-05\n",
      "Epoch 96/100\n",
      "25/25 [==============================] - 0s 6ms/step - loss: 1.6028e-05 - mean_squared_logarithmic_error: 1.6028e-05 - val_loss: 3.3936e-05 - val_mean_squared_logarithmic_error: 3.3936e-05\n",
      "Epoch 97/100\n",
      "25/25 [==============================] - 0s 5ms/step - loss: 1.9580e-05 - mean_squared_logarithmic_error: 1.9580e-05 - val_loss: 3.3485e-05 - val_mean_squared_logarithmic_error: 3.3485e-05\n",
      "Epoch 98/100\n",
      "25/25 [==============================] - 0s 5ms/step - loss: 1.8462e-05 - mean_squared_logarithmic_error: 1.8462e-05 - val_loss: 3.3365e-05 - val_mean_squared_logarithmic_error: 3.3365e-05\n",
      "Epoch 99/100\n",
      "25/25 [==============================] - 0s 5ms/step - loss: 1.9545e-05 - mean_squared_logarithmic_error: 1.9545e-05 - val_loss: 3.3062e-05 - val_mean_squared_logarithmic_error: 3.3062e-05\n",
      "Epoch 100/100\n",
      "25/25 [==============================] - 0s 5ms/step - loss: 1.8285e-05 - mean_squared_logarithmic_error: 1.8285e-05 - val_loss: 3.2873e-05 - val_mean_squared_logarithmic_error: 3.2873e-05\n"
     ]
    }
   ],
   "source": [
    "# train the model\n",
    "checkpointer = ModelCheckpoint(filepath='housing.nn.best.hdf5', verbose=0, save_best_only=True)\n",
    "\n",
    "history = model.fit(\n",
    "    X_train, \n",
    "    y_train, \n",
    "    validation_split=0.33, \n",
    "    epochs=100, \n",
    "    callbacks=[checkpointer],\n",
    "    batch_size=32, \n",
    "    verbose=1\n",
    ")"
   ]
  },
  {
   "cell_type": "code",
   "execution_count": 127,
   "metadata": {
    "colab": {
     "base_uri": "https://localhost:8080/",
     "height": 298
    },
    "id": "JhH8DvplEH2i",
    "outputId": "818b8e8d-4c72-42a0-aae3-414da0c9b67b"
   },
   "outputs": [
    {
     "data": {
      "text/plain": [
       "<matplotlib.legend.Legend at 0x7fc7af4e1780>"
      ]
     },
     "execution_count": 127,
     "metadata": {
      "tags": []
     },
     "output_type": "execute_result"
    },
    {
     "data": {
      "image/png": "[encoded data removed]",
      "text/plain": [
       "<Figure size 1080x576 with 1 Axes>"
      ]
     },
     "metadata": {
      "needs_background": "light",
      "tags": []
     },
     "output_type": "display_data"
    }
   ],
   "source": [
    "plt.figure(1, figsize = (15,8)) \n",
    "\n",
    "# summarize history for loss\n",
    "plt.subplot(222) \n",
    "plt.plot(history.history['loss'])\n",
    "plt.plot(history.history['val_loss'])\n",
    "plt.title('model loss')\n",
    "plt.ylabel('loss')\n",
    "plt.xlabel('epoch')\n",
    "plt.legend(['train', 'test'], loc='upper left')"
   ]
  },
  {
   "cell_type": "code",
   "execution_count": 128,
   "metadata": {
    "colab": {
     "base_uri": "https://localhost:8080/",
     "height": 34
    },
    "id": "bE7vHI0XFa4c",
    "outputId": "bd6f9e4a-c73e-4702-9459-9ebd4c8d14d5"
   },
   "outputs": [
    {
     "data": {
      "text/plain": [
       "[3.423444286454469e-05, 3.423444286454469e-05]"
      ]
     },
     "execution_count": 128,
     "metadata": {
      "tags": []
     },
     "output_type": "execute_result"
    }
   ],
   "source": [
    "model.evaluate(X_test, y_test, verbose=0)"
   ]
  },
  {
   "cell_type": "code",
   "execution_count": 129,
   "metadata": {
    "colab": {
     "base_uri": "https://localhost:8080/",
     "height": 51
    },
    "id": "jydwzEKQ0f93",
    "outputId": "a505eb7f-c781-4f8b-af84-91a0c0b68737"
   },
   "outputs": [
    {
     "name": "stdout",
     "output_type": "stream",
     "text": [
      "RMSE: 0.006060949736476166 \n",
      "r2: 0.7270255189409724\n"
     ]
    }
   ],
   "source": [
    "pred = model.predict(X_test).reshape(X_test.shape[0],)\n",
    "\n",
    "RMSE = np.sqrt(mean_squared_error(y_test, pred))\n",
    "R2 = r2_score(y_test, pred)\n",
    "print('RMSE:',RMSE,'\\nr2:',R2)"
   ]
  },
  {
   "cell_type": "code",
   "execution_count": 130,
   "metadata": {
    "colab": {
     "base_uri": "https://localhost:8080/",
     "height": 403
    },
    "id": "neUhASAaWf05",
    "outputId": "28e99954-8d0d-47d9-8beb-63e6c28da34d"
   },
   "outputs": [
    {
     "data": {
      "text/plain": [
       "<seaborn.axisgrid.FacetGrid at 0x7fc7b046ec18>"
      ]
     },
     "execution_count": 130,
     "metadata": {
      "tags": []
     },
     "output_type": "execute_result"
    },
    {
     "data": {
      "image/png": "[encoded data removed]",
      "text/plain": [
       "<Figure size 360x360 with 1 Axes>"
      ]
     },
     "metadata": {
      "needs_background": "light",
      "tags": []
     },
     "output_type": "display_data"
    }
   ],
   "source": [
    "DL_results = pd.DataFrame({\n",
    "    'y_test':y_test*w,\n",
    "    'pred':model.predict(X_test).reshape(X_test.shape[0],)*w\n",
    "})\n",
    "sns.lmplot(data=DL_results, x=\"y_test\", y=\"pred\")"
   ]
  },
  {
   "cell_type": "code",
   "execution_count": 131,
   "metadata": {
    "colab": {
     "base_uri": "https://localhost:8080/",
     "height": 51
    },
    "id": "DOVlZTlNEH2n",
    "outputId": "0b89bdf7-eae6-411f-97f4-bab0562a76b2"
   },
   "outputs": [
    {
     "data": {
      "text/plain": [
       "array([122100.016, 134130.66 , 184960.69 , ..., 135102.42 ,  58053.473,\n",
       "       217306.83 ], dtype=float32)"
      ]
     },
     "execution_count": 131,
     "metadata": {
      "tags": []
     },
     "output_type": "execute_result"
    }
   ],
   "source": [
    "pred_norm = model.predict(practice)\n",
    "pred = pred_norm.reshape(pred_norm.shape[0],)*w\n",
    "pred"
   ]
  },
  {
   "cell_type": "code",
   "execution_count": 132,
   "metadata": {
    "id": "b_VSkF7gEH2q"
   },
   "outputs": [],
   "source": [
    "# Submit predictions\n",
    "submission = pd.DataFrame({\n",
    "    'Id': pd.read_csv('test.csv')['Id'],\n",
    "    'SalePrice': pred\n",
    "})\n",
    "submission.to_csv('DL_submission.csv', index=False)"
   ]
  }
 ],
 "metadata": {
  "accelerator": "GPU",
  "colab": {
   "collapsed_sections": [],
   "name": "Housing.ipynb",
   "provenance": [],
   "toc_visible": true
  },
  "kernelspec": {
   "display_name": "Python 3",
   "language": "python",
   "name": "python3"
  },
  "language_info": {
   "codemirror_mode": {
    "name": "ipython",
    "version": 3
   },
   "file_extension": ".py",
   "mimetype": "text/x-python",
   "name": "python",
   "nbconvert_exporter": "python",
   "pygments_lexer": "ipython3",
   "version": "3.7.1"
  }
 },
 "nbformat": 4,
 "nbformat_minor": 1
}
