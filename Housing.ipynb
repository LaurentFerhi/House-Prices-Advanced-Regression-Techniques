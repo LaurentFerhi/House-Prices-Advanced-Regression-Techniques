{
 "cells": [
  {
   "cell_type": "markdown",
   "metadata": {},
   "source": [
    "https://www.kaggle.com/c/house-prices-advanced-regression-techniques"
   ]
  },
  {
   "cell_type": "code",
   "execution_count": 166,
   "metadata": {},
   "outputs": [],
   "source": [
    "import pandas as pd\n",
    "import numpy as np\n",
    "\n",
    "import matplotlib.pyplot as plt\n",
    "%matplotlib inline\n",
    "import seaborn as sns\n",
    "sns.set()\n",
    "\n",
    "from sklearn import preprocessing"
   ]
  },
  {
   "cell_type": "code",
   "execution_count": 167,
   "metadata": {},
   "outputs": [],
   "source": [
    "data = pd.read_csv('train.csv')\n",
    "practice = pd.read_csv('test.csv')\n",
    "sub = pd.read_csv('sample_submission.csv')"
   ]
  },
  {
   "cell_type": "code",
   "execution_count": 168,
   "metadata": {},
   "outputs": [],
   "source": [
    "label = data.pop('SalePrice')"
   ]
  },
  {
   "cell_type": "code",
   "execution_count": 169,
   "metadata": {},
   "outputs": [],
   "source": [
    "def pre_process(df_train, df_test):\n",
    "    # Convert all df to str\n",
    "    df_train = df_train.applymap(lambda x: str(x))\n",
    "    df_test = df_test.applymap(lambda x: str(x))\n",
    "    # replace NaN by 0\n",
    "    df_train.fillna('0', inplace=True) # if fill with int(0), label encoder fails\n",
    "    df_test.fillna('0', inplace=True)\n",
    "    # Drop Id\n",
    "    df_train.drop('Id', axis=1, inplace=True)\n",
    "    df_test.drop('Id', axis=1, inplace=True)\n",
    "    # Label encode each non numerical features\n",
    "    dict_encoder = {}\n",
    "    for col in list(df_train.select_dtypes(include='object')):\n",
    "        le = preprocessing.LabelEncoder()\n",
    "        le.fit(list(df_train[col])+list(df_test[col]))\n",
    "        df_train[col] = le.transform(df_train[col])\n",
    "        df_test[col] = le.transform(df_test[col])\n",
    "        dict_encoder[col] = le\n",
    "    # Re-convert all df to float\n",
    "    df_train = df_train.applymap(lambda x: float(x))\n",
    "    df_test = df_test.applymap(lambda x: float(x))\n",
    "    return df_train, df_test, dict_encoder"
   ]
  },
  {
   "cell_type": "code",
   "execution_count": 170,
   "metadata": {},
   "outputs": [],
   "source": [
    "data, practice, dict_encoder = pre_process(data, practice)"
   ]
  },
  {
   "cell_type": "code",
   "execution_count": null,
   "metadata": {},
   "outputs": [],
   "source": []
  }
 ],
 "metadata": {
  "kernelspec": {
   "display_name": "Python 3",
   "language": "python",
   "name": "python3"
  },
  "language_info": {
   "codemirror_mode": {
    "name": "ipython",
    "version": 3
   },
   "file_extension": ".py",
   "mimetype": "text/x-python",
   "name": "python",
   "nbconvert_exporter": "python",
   "pygments_lexer": "ipython3",
   "version": "3.7.1"
  }
 },
 "nbformat": 4,
 "nbformat_minor": 2
}
